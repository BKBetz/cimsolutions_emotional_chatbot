{
  "nbformat": 4,
  "nbformat_minor": 0,
  "metadata": {
    "colab": {
      "provenance": []
    },
    "kernelspec": {
      "name": "python3",
      "display_name": "Python 3"
    },
    "language_info": {
      "name": "python"
    }
  },
  "cells": [
    {
      "cell_type": "markdown",
      "source": [
        "# Emotion detection outputs\n",
        "In this notebook, a small example will be shown to show how the scoring system of this retrieval based system will operate.\n",
        "For this, the self made database will be used with some small example sentences."
      ],
      "metadata": {
        "id": "AXSbME994gSS"
      }
    },
    {
      "cell_type": "code",
      "source": [
        "# install necessary libraries\n",
        "import sqlite3 as sql\n",
        "from google.colab import drive\n",
        "import random as rd"
      ],
      "metadata": {
        "id": "PJL7WBay7g3O"
      },
      "execution_count": 1,
      "outputs": []
    },
    {
      "cell_type": "markdown",
      "source": [
        "The first step is connect to the drive"
      ],
      "metadata": {
        "id": "GZMLY_015IXx"
      }
    },
    {
      "cell_type": "code",
      "source": [
        "drive.mount('/content/drive')"
      ],
      "metadata": {
        "colab": {
          "base_uri": "https://localhost:8080/"
        },
        "id": "Nu4aSkT64fe6",
        "outputId": "bba655a6-51db-4ac9-9bec-7808a0930106"
      },
      "execution_count": 2,
      "outputs": [
        {
          "output_type": "stream",
          "name": "stdout",
          "text": [
            "Drive already mounted at /content/drive; to attempt to forcibly remount, call drive.mount(\"/content/drive\", force_remount=True).\n"
          ]
        }
      ]
    },
    {
      "cell_type": "code",
      "source": [
        "path = \"drive/MyDrive/HBO/cursussen/jaar_4/afstuderen/ed_outputs.db\""
      ],
      "metadata": {
        "id": "_mMZrGlT7fv-"
      },
      "execution_count": 3,
      "outputs": []
    },
    {
      "cell_type": "code",
      "source": [
        "# make connection to the database\n",
        "conn = sql.connect(path)\n",
        "cur = conn.cursor()"
      ],
      "metadata": {
        "id": "1Yd3c272DA_c"
      },
      "execution_count": 4,
      "outputs": []
    },
    {
      "cell_type": "code",
      "source": [
        "# database content\n",
        "cur.execute(\"SELECT id, output, emotion, score FROM outputs\")\n",
        "cur.fetchall()"
      ],
      "metadata": {
        "colab": {
          "base_uri": "https://localhost:8080/"
        },
        "id": "Pfj6_nT4DDzC",
        "outputId": "6b5f7fa8-da5d-4976-f1d2-61b23cdd087e"
      },
      "execution_count": 5,
      "outputs": [
        {
          "output_type": "execute_result",
          "data": {
            "text/plain": [
              "[(1, 'Laten we de situatie bespreken en een oplossing vinden.', 'angry', 0),\n",
              " (2,\n",
              "  ' Ik begrijp dat je het niet leuk vindt. Ik ge voor jou een oplossing zoeken.',\n",
              "  'angry',\n",
              "  0),\n",
              " (3,\n",
              "  'Laten we kijken wat er aan de hand is en bekijken hoe we het kunnen oplossen.',\n",
              "  'angry',\n",
              "  0),\n",
              " (4,\n",
              "  'Laten we kalm blijven en samen naar een bruikbare oplossing zoeken.',\n",
              "  'angry',\n",
              "  0),\n",
              " (5,\n",
              "  'Als er zaken zijn die moeten worden opgelost, laten we ze uitzoeken  en aanpakken.',\n",
              "  'angry',\n",
              "  0),\n",
              " (6, 'Fijn om te horen dat je tevreden bent!', 'joy', 0),\n",
              " (7, 'Het is goed om te horen dat je zo blij bent!', 'joy', 0),\n",
              " (8, 'Dat is goed nieuws, fijn!', 'joy', 0),\n",
              " (9, 'Graag gedaan, blij dat ik kan helpen!', 'joy', 0),\n",
              " (10, 'Wat leuk!', 'joy', 0),\n",
              " (11, 'Laat me weten hoe ik kan helpen.', 'sad', 0),\n",
              " (12, 'Als je iets nodig hebt, aarzel dan niet om te vragen.', 'sad', 0),\n",
              " (13, 'We gaan samen een oplossing zoeken..', 'sad', 0),\n",
              " (14, 'Als je hulp nodig hebt, laat het me weten.', 'sad', 0),\n",
              " (15, 'Als er iets is dat je wilt bespreken, sta ik voor je klaar.', 'sad', 0),\n",
              " (16, 'Kan ik iets doen om je gerust te stellen?', 'fear', 0),\n",
              " (17, 'Kan ik iets doen tegen je angst?', 'fear', 0),\n",
              " (18, 'Wees niet Bang, we gaan het oplosssen', 'fear', 0),\n",
              " (19, 'Is er iets dat je zorgen kan wegnement?', 'fear', 0),\n",
              " (20, 'Kan iets helpen bij het verminderen van je angst?', 'fear', 0),\n",
              " (21, 'Ik waardeer je houding.', 'love', 0),\n",
              " (22, 'Jouw medewerking is fijn.', 'love', 0),\n",
              " (23, 'Je positieve houding draagt bij aan een prettig gesprek.', 'love', 0),\n",
              " (24, 'Bedankt voor je inzet en toewijding.', 'love', 0),\n",
              " (25, 'Je bijdrage wordt gewaardeerd.', 'love', 0)]"
            ]
          },
          "metadata": {},
          "execution_count": 5
        }
      ]
    },
    {
      "cell_type": "markdown",
      "source": [
        "As grading method, the markov decision process will be used. This is a easy, yet efficient method to make the retrieval based system choose a output. The score will be graded using the reply **after** sending the output. the grading works as follow:\n",
        "\n",
        "1. negative --> negative = -1\n",
        "2. negative --> neutral = +1\n",
        "3. negative --> positive = +2\n",
        "4. neutral -->  neutral = 0\n",
        "5. neutral --> positive = +1\n",
        "6. neutral --> negative = -1\n",
        "7. positive --> positve = +1\n",
        "8. positive --> neutral = 0\n",
        "9. positive --> negative = -2"
      ],
      "metadata": {
        "id": "goS3dKKcHQnJ"
      }
    },
    {
      "cell_type": "code",
      "source": [
        "# 4 sentences to show how a retrieval based works\".\n",
        "conv_user = [{\"text\": \"Hallo, hoe gaat het\", \"emotion\": \"neutral\"},\n",
        "             {\"text\": \"Domme chatbot\", \"emotion\": \"angry\"},\n",
        "             {\"text\": \"Dat zou fijn zijn\", \"emotion\": \"neutral\"},\n",
        "             {\"text\": \"ja, Heel erg bedankt\", \"emotion\": \"joy\"}\n",
        "             ]\n"
      ],
      "metadata": {
        "id": "qZXW2tgbD_pY"
      },
      "execution_count": 6,
      "outputs": []
    },
    {
      "cell_type": "code",
      "source": [
        "class RetrievalOutput:\n",
        "  def __init__(self):\n",
        "    self.database = conn,\n",
        "    self.cur = cur\n",
        "    self.memory = []\n",
        "    self.conv_id = 0\n",
        "    self.epsilon = 0.9\n",
        "    self. categories = {\"pos\": [\"joy\", \"love\"], \"neu\": [\"neutral\", \"other\"], \"neg\": [\"sad\", \"angry\", \"fear\"]}\n",
        "    self.grading = {\"neg-neg\": -1, \"neg-neu\": 1, \"neg-pos\": 2, \"neu-neu\": 0, \"neu-pos\": 1, \"neu-neg\": -1, \"pos-pos\": 1, \"pos-neu\": 0, \"pos-neg\": -2}\n",
        "\n",
        "  def check_emotion(self, u_input):\n",
        "    #in this function the input would be fowarded to the ed model to determine a emotion, but for this example the emotion is pre determined\n",
        "    emotion = u_input['emotion']\n",
        "    return emotion\n",
        "\n",
        "  def get_output(self, emotion):\n",
        "    # retrieve from db using policy greedy\n",
        "    if emotion != \"neutral\":\n",
        "      rd_int = round(rd.random(), 2)\n",
        "      print(rd_int)\n",
        "      if rd_int > self.epsilon:\n",
        "        # random\n",
        "        query = \"SELECT id, output, emotion, score FROM outputs WHERE emotion = '%s' ORDER BY RANDOM() LIMIT 1\" % emotion\n",
        "      else:\n",
        "        # not random\n",
        "        query = \"SELECT id, output, emotion, score FROM outputs WHERE emotion = '%s' ORDER BY score DESC LIMIT 1\" % emotion\n",
        "\n",
        "      output = self.cur.execute(query)\n",
        "      output = list(self.cur.fetchone())\n",
        "\n",
        "    else:\n",
        "      output = \"test\"\n",
        "\n",
        "    return output\n",
        "\n",
        "  def save(self, input, rb_output, emotion):\n",
        "    # save conversation as dict for grading\n",
        "\n",
        "    # get correct category using emotion\n",
        "    for key, value in self.categories.items():\n",
        "      for x in value:\n",
        "        if x == emotion:\n",
        "          category = key\n",
        "\n",
        "    conversation = {\"conv_id\": self.conv_id, \"input\": input, \"rb\": rb_output, \"pnn\": category}\n",
        "    self.memory.append(conversation)\n",
        "\n",
        "  def grade(self):\n",
        "    # grade previous conversation using current conversation\n",
        "     sentiment = self.memory[self.conv_id]['pnn']\n",
        "     if len(self.memory) > 1:\n",
        "      prev_conv = self.memory[self.conv_id - 1]\n",
        "      prev_sentiment = prev_conv['pnn']\n",
        "\n",
        "      change = prev_sentiment + \"-\" + sentiment\n",
        "      grade = self.grading[change]\n",
        "      print(change, grade)\n",
        "      if prev_sentiment != \"neu\":\n",
        "        prev_conv['rb'][3] = prev_conv['rb'][3] + grade\n",
        "        self.update_db(prev_conv['rb'])\n",
        "\n",
        "     else:\n",
        "      print('first conv')\n",
        "\n",
        "\n",
        "     self.conv_id += 1\n",
        "\n",
        "  def update_db(self, response):\n",
        "    query = \"UPDATE outputs SET score = %s WHERE id = %s\" % (response[3], response[0])\n",
        "    cur.execute(query)\n",
        "\n",
        "  def reset_score(self):\n",
        "    query = \"UPDATE outputs SET score = 0\"\n",
        "    cur.execute(query)\n",
        "\n",
        "  def reset_memory(self):\n",
        "    self.memory.clear()\n",
        "\n",
        "  def forward(self, text):\n",
        "    # return response.\n",
        "    emotion =  self.check_emotion(text)\n",
        "    rb_output =  self.get_output(emotion)\n",
        "    self.save(text, rb_output, emotion)\n",
        "    self.grade()\n",
        "\n",
        "    if rb_output == \"test\":\n",
        "      return rb_output\n",
        "\n",
        "    else:\n",
        "      return rb_output[1]"
      ],
      "metadata": {
        "id": "cddoqkXyKyrI"
      },
      "execution_count": 53,
      "outputs": []
    },
    {
      "cell_type": "markdown",
      "source": [
        "The code below gives a example of a small conversation, by rerunning the two cells, you can see the score increasing. using the epsilon variable in the class function, u can make it more random for this testing process to see different outputs be graded more often."
      ],
      "metadata": {
        "id": "_goAh2qPw8MY"
      }
    },
    {
      "cell_type": "code",
      "source": [
        "res =  RetrievalOutput()\n",
        "for conv in conv_user:\n",
        "  print(\"input\",conv)\n",
        "  print(\"res\",res.forward(conv))"
      ],
      "metadata": {
        "colab": {
          "base_uri": "https://localhost:8080/"
        },
        "id": "Z3aUGqplmqI3",
        "outputId": "32e5119f-592e-4602-84bc-6b781c34b7f3"
      },
      "execution_count": 55,
      "outputs": [
        {
          "output_type": "stream",
          "name": "stdout",
          "text": [
            "input {'text': 'Hallo, hoe gaat het', 'emotion': 'neutral'}\n",
            "first conv\n",
            "res test\n",
            "input {'text': 'Domme chatbot', 'emotion': 'angry'}\n",
            "0.94\n",
            "neu-neg -1\n",
            "res Laten we de situatie bespreken en een oplossing vinden.\n",
            "input {'text': 'Dat zou fijn zijn', 'emotion': 'neutral'}\n",
            "neg-neu 1\n",
            "res test\n",
            "input {'text': 'ja, Heel erg bedankt', 'emotion': 'joy'}\n",
            "0.72\n",
            "neu-pos 1\n",
            "res Fijn om te horen dat je tevreden bent!\n",
            "[{'conv_id': 0, 'input': {'text': 'Hallo, hoe gaat het', 'emotion': 'neutral'}, 'rb': 'test', 'pnn': 'neu'}, {'conv_id': 1, 'input': {'text': 'Domme chatbot', 'emotion': 'angry'}, 'rb': [1, 'Laten we de situatie bespreken en een oplossing vinden.', 'angry', 3], 'pnn': 'neg'}, {'conv_id': 2, 'input': {'text': 'Dat zou fijn zijn', 'emotion': 'neutral'}, 'rb': 'test', 'pnn': 'neu'}, {'conv_id': 3, 'input': {'text': 'ja, Heel erg bedankt', 'emotion': 'joy'}, 'rb': [6, 'Fijn om te horen dat je tevreden bent!', 'joy', 0], 'pnn': 'pos'}]\n",
            "[]\n"
          ]
        }
      ]
    },
    {
      "cell_type": "code",
      "source": [
        "cur.execute(\"SELECT id, output, emotion, score FROM outputs\")\n",
        "cur.fetchall()"
      ],
      "metadata": {
        "colab": {
          "base_uri": "https://localhost:8080/"
        },
        "id": "YjCG9teaIn8A",
        "outputId": "82f9317f-253f-4c12-eb18-c098da60114f"
      },
      "execution_count": 56,
      "outputs": [
        {
          "output_type": "execute_result",
          "data": {
            "text/plain": [
              "[(1, 'Laten we de situatie bespreken en een oplossing vinden.', 'angry', 3),\n",
              " (2,\n",
              "  ' Ik begrijp dat je het niet leuk vindt. Ik ge voor jou een oplossing zoeken.',\n",
              "  'angry',\n",
              "  0),\n",
              " (3,\n",
              "  'Laten we kijken wat er aan de hand is en bekijken hoe we het kunnen oplossen.',\n",
              "  'angry',\n",
              "  0),\n",
              " (4,\n",
              "  'Laten we kalm blijven en samen naar een bruikbare oplossing zoeken.',\n",
              "  'angry',\n",
              "  0),\n",
              " (5,\n",
              "  'Als er zaken zijn die moeten worden opgelost, laten we ze uitzoeken  en aanpakken.',\n",
              "  'angry',\n",
              "  0),\n",
              " (6, 'Fijn om te horen dat je tevreden bent!', 'joy', 0),\n",
              " (7, 'Het is goed om te horen dat je zo blij bent!', 'joy', 0),\n",
              " (8, 'Dat is goed nieuws, fijn!', 'joy', 0),\n",
              " (9, 'Graag gedaan, blij dat ik kan helpen!', 'joy', 0),\n",
              " (10, 'Wat leuk!', 'joy', 0),\n",
              " (11, 'Laat me weten hoe ik kan helpen.', 'sad', 0),\n",
              " (12, 'Als je iets nodig hebt, aarzel dan niet om te vragen.', 'sad', 0),\n",
              " (13, 'We gaan samen een oplossing zoeken..', 'sad', 0),\n",
              " (14, 'Als je hulp nodig hebt, laat het me weten.', 'sad', 0),\n",
              " (15, 'Als er iets is dat je wilt bespreken, sta ik voor je klaar.', 'sad', 0),\n",
              " (16, 'Kan ik iets doen om je gerust te stellen?', 'fear', 0),\n",
              " (17, 'Kan ik iets doen tegen je angst?', 'fear', 0),\n",
              " (18, 'Wees niet Bang, we gaan het oplosssen', 'fear', 0),\n",
              " (19, 'Is er iets dat je zorgen kan wegnement?', 'fear', 0),\n",
              " (20, 'Kan iets helpen bij het verminderen van je angst?', 'fear', 0),\n",
              " (21, 'Ik waardeer je houding.', 'love', 0),\n",
              " (22, 'Jouw medewerking is fijn.', 'love', 0),\n",
              " (23, 'Je positieve houding draagt bij aan een prettig gesprek.', 'love', 0),\n",
              " (24, 'Bedankt voor je inzet en toewijding.', 'love', 0),\n",
              " (25, 'Je bijdrage wordt gewaardeerd.', 'love', 0)]"
            ]
          },
          "metadata": {},
          "execution_count": 56
        }
      ]
    },
    {
      "cell_type": "code",
      "source": [],
      "metadata": {
        "id": "KAtSVRyvaWlX"
      },
      "execution_count": null,
      "outputs": []
    }
  ]
}