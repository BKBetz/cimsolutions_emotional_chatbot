{
 "cells": [
  {
   "cell_type": "markdown",
   "metadata": {},
   "source": [
    "# Data cleaning\n",
    "\n",
    "This notebooks is for the step by step data cleaning process. All datasets that will be used and need data cleaning, will be processed in this file and converted to a csv file so that it can be easily used in the project"
   ]
  },
  {
   "cell_type": "code",
   "execution_count": 237,
   "metadata": {},
   "outputs": [],
   "source": [
    "import pandas as pd\n",
    "import numpy as np\n",
    "from requests_html import AsyncHTMLSession\n",
    "from bs4 import BeautifulSoup\n",
    "import os\n",
    "import re"
   ]
  },
  {
   "cell_type": "markdown",
   "metadata": {},
   "source": [
    "## EmotioNL\n",
    "\n",
    "EmotioNL dataset is a dutch emotion dataset with dutch sentences labeled with six emotions (joy, sadness, fear, neutral, love and anger). The dataset is split in two parts. The parts are:\n",
    "\n",
    "1. A dataset of 1000 tweets\n",
    "2. A dataset of 1000 sentences from different tv shows\n",
    "\n",
    "Both parts are stored in textfiles and contain unnecessary columns for this project. We filter the files so that only the correct columns remain and convert both to a csv file."
   ]
  },
  {
   "cell_type": "markdown",
   "metadata": {},
   "source": [
    "### EmotioNL TV shows"
   ]
  },
  {
   "cell_type": "markdown",
   "metadata": {},
   "source": [
    "Get the path to the file"
   ]
  },
  {
   "cell_type": "code",
   "execution_count": 238,
   "metadata": {},
   "outputs": [
    {
     "data": {
      "text/plain": [
       "'datasets\\\\EmotioNL_dataset_open\\\\EmotioNL_captions.txt'"
      ]
     },
     "execution_count": 238,
     "metadata": {},
     "output_type": "execute_result"
    }
   ],
   "source": [
    "base_path = \"datasets\\EmotioNL_dataset_open\"\n",
    "filename = \"EmotioNL_captions.txt\"\n",
    "\n",
    "pf = os.path.join(base_path, filename)\n",
    "pf"
   ]
  },
  {
   "cell_type": "markdown",
   "metadata": {},
   "source": [
    "The current dataset. Consisting of 7 columns."
   ]
  },
  {
   "cell_type": "code",
   "execution_count": 239,
   "metadata": {},
   "outputs": [
    {
     "data": {
      "text/html": [
       "<div>\n",
       "<style scoped>\n",
       "    .dataframe tbody tr th:only-of-type {\n",
       "        vertical-align: middle;\n",
       "    }\n",
       "\n",
       "    .dataframe tbody tr th {\n",
       "        vertical-align: top;\n",
       "    }\n",
       "\n",
       "    .dataframe thead th {\n",
       "        text-align: right;\n",
       "    }\n",
       "</style>\n",
       "<table border=\"1\" class=\"dataframe\">\n",
       "  <thead>\n",
       "    <tr style=\"text-align: right;\">\n",
       "      <th></th>\n",
       "      <th>ID</th>\n",
       "      <th>Text</th>\n",
       "      <th>Show</th>\n",
       "      <th>Valence</th>\n",
       "      <th>Arousal</th>\n",
       "      <th>Dominance</th>\n",
       "      <th>Category</th>\n",
       "    </tr>\n",
       "  </thead>\n",
       "  <tbody>\n",
       "    <tr>\n",
       "      <th>0</th>\n",
       "      <td>0</td>\n",
       "      <td>Kweenie of da gij al es goed hebt stilgestaan ...</td>\n",
       "      <td>OV</td>\n",
       "      <td>0.303732</td>\n",
       "      <td>0.513015</td>\n",
       "      <td>0.664205</td>\n",
       "      <td>neutral</td>\n",
       "    </tr>\n",
       "    <tr>\n",
       "      <th>1</th>\n",
       "      <td>1</td>\n",
       "      <td>Santé.</td>\n",
       "      <td>BG</td>\n",
       "      <td>0.712377</td>\n",
       "      <td>0.492071</td>\n",
       "      <td>0.619150</td>\n",
       "      <td>joy</td>\n",
       "    </tr>\n",
       "    <tr>\n",
       "      <th>2</th>\n",
       "      <td>10</td>\n",
       "      <td>Ja jongens. Dees is nie gezond ze. Pfff. Dees ...</td>\n",
       "      <td>BG</td>\n",
       "      <td>0.338710</td>\n",
       "      <td>0.827688</td>\n",
       "      <td>0.260467</td>\n",
       "      <td>fear</td>\n",
       "    </tr>\n",
       "    <tr>\n",
       "      <th>3</th>\n",
       "      <td>100</td>\n",
       "      <td>Ik had de vorige keer ook al zoiets van: nie m...</td>\n",
       "      <td>OV</td>\n",
       "      <td>0.438437</td>\n",
       "      <td>0.714087</td>\n",
       "      <td>0.471438</td>\n",
       "      <td>anger</td>\n",
       "    </tr>\n",
       "    <tr>\n",
       "      <th>4</th>\n",
       "      <td>101</td>\n",
       "      <td>Tis wat het is. Tis ook een belangrijke job eh...</td>\n",
       "      <td>BZL</td>\n",
       "      <td>0.696067</td>\n",
       "      <td>0.552524</td>\n",
       "      <td>0.705887</td>\n",
       "      <td>neutral</td>\n",
       "    </tr>\n",
       "    <tr>\n",
       "      <th>...</th>\n",
       "      <td>...</td>\n",
       "      <td>...</td>\n",
       "      <td>...</td>\n",
       "      <td>...</td>\n",
       "      <td>...</td>\n",
       "      <td>...</td>\n",
       "      <td>...</td>\n",
       "    </tr>\n",
       "    <tr>\n",
       "      <th>995</th>\n",
       "      <td>995</td>\n",
       "      <td>Jah ze werken harder eh als wij in België, en ...</td>\n",
       "      <td>BZL</td>\n",
       "      <td>0.344995</td>\n",
       "      <td>0.849752</td>\n",
       "      <td>0.543079</td>\n",
       "      <td>sadness</td>\n",
       "    </tr>\n",
       "    <tr>\n",
       "      <th>996</th>\n",
       "      <td>996</td>\n",
       "      <td>Ah gij. Wa een ramp zijt gij. Allemaal hetzelfde.</td>\n",
       "      <td>OV</td>\n",
       "      <td>0.257216</td>\n",
       "      <td>0.690051</td>\n",
       "      <td>0.462198</td>\n",
       "      <td>anger</td>\n",
       "    </tr>\n",
       "    <tr>\n",
       "      <th>997</th>\n",
       "      <td>997</td>\n",
       "      <td>Der sta Lego van Lord of the Rings, van Star W...</td>\n",
       "      <td>BG</td>\n",
       "      <td>0.681752</td>\n",
       "      <td>0.434160</td>\n",
       "      <td>0.673334</td>\n",
       "      <td>neutral</td>\n",
       "    </tr>\n",
       "    <tr>\n",
       "      <th>998</th>\n",
       "      <td>998</td>\n",
       "      <td>Nu zijn we precies aant kamperen.</td>\n",
       "      <td>BZL</td>\n",
       "      <td>0.503272</td>\n",
       "      <td>0.293365</td>\n",
       "      <td>0.529894</td>\n",
       "      <td>joy</td>\n",
       "    </tr>\n",
       "    <tr>\n",
       "      <th>999</th>\n",
       "      <td>999</td>\n",
       "      <td>Ik heb euh ooit es… bja ik swing op elk feestj...</td>\n",
       "      <td>BG</td>\n",
       "      <td>0.791417</td>\n",
       "      <td>0.474632</td>\n",
       "      <td>0.636312</td>\n",
       "      <td>joy</td>\n",
       "    </tr>\n",
       "  </tbody>\n",
       "</table>\n",
       "<p>1000 rows × 7 columns</p>\n",
       "</div>"
      ],
      "text/plain": [
       "      ID                                               Text Show   Valence  \\\n",
       "0      0  Kweenie of da gij al es goed hebt stilgestaan ...   OV  0.303732   \n",
       "1      1                                             Santé.   BG  0.712377   \n",
       "2     10  Ja jongens. Dees is nie gezond ze. Pfff. Dees ...   BG  0.338710   \n",
       "3    100  Ik had de vorige keer ook al zoiets van: nie m...   OV  0.438437   \n",
       "4    101  Tis wat het is. Tis ook een belangrijke job eh...  BZL  0.696067   \n",
       "..   ...                                                ...  ...       ...   \n",
       "995  995  Jah ze werken harder eh als wij in België, en ...  BZL  0.344995   \n",
       "996  996  Ah gij. Wa een ramp zijt gij. Allemaal hetzelfde.   OV  0.257216   \n",
       "997  997  Der sta Lego van Lord of the Rings, van Star W...   BG  0.681752   \n",
       "998  998                  Nu zijn we precies aant kamperen.  BZL  0.503272   \n",
       "999  999  Ik heb euh ooit es… bja ik swing op elk feestj...   BG  0.791417   \n",
       "\n",
       "      Arousal  Dominance Category  \n",
       "0    0.513015   0.664205  neutral  \n",
       "1    0.492071   0.619150      joy  \n",
       "2    0.827688   0.260467     fear  \n",
       "3    0.714087   0.471438    anger  \n",
       "4    0.552524   0.705887  neutral  \n",
       "..        ...        ...      ...  \n",
       "995  0.849752   0.543079  sadness  \n",
       "996  0.690051   0.462198    anger  \n",
       "997  0.434160   0.673334  neutral  \n",
       "998  0.293365   0.529894      joy  \n",
       "999  0.474632   0.636312      joy  \n",
       "\n",
       "[1000 rows x 7 columns]"
      ]
     },
     "execution_count": 239,
     "metadata": {},
     "output_type": "execute_result"
    }
   ],
   "source": [
    "shows_df = pd.read_csv(pf, sep=\"\\t\")\n",
    "shows_df"
   ]
  },
  {
   "cell_type": "markdown",
   "metadata": {},
   "source": [
    "There are no empty values nor duplicates in this dataset"
   ]
  },
  {
   "cell_type": "code",
   "execution_count": 240,
   "metadata": {},
   "outputs": [
    {
     "data": {
      "text/plain": [
       "(0, 0)"
      ]
     },
     "execution_count": 240,
     "metadata": {},
     "output_type": "execute_result"
    }
   ],
   "source": [
    "dupes = shows_df[shows_df.duplicated()]\n",
    "empty = np.where(pd.isnull(shows_df))\n",
    "\n",
    "len(dupes), len(empty[0])"
   ]
  },
  {
   "cell_type": "markdown",
   "metadata": {},
   "source": [
    " For this project, we only need the columns text and category."
   ]
  },
  {
   "cell_type": "code",
   "execution_count": 241,
   "metadata": {},
   "outputs": [
    {
     "data": {
      "text/html": [
       "<div>\n",
       "<style scoped>\n",
       "    .dataframe tbody tr th:only-of-type {\n",
       "        vertical-align: middle;\n",
       "    }\n",
       "\n",
       "    .dataframe tbody tr th {\n",
       "        vertical-align: top;\n",
       "    }\n",
       "\n",
       "    .dataframe thead th {\n",
       "        text-align: right;\n",
       "    }\n",
       "</style>\n",
       "<table border=\"1\" class=\"dataframe\">\n",
       "  <thead>\n",
       "    <tr style=\"text-align: right;\">\n",
       "      <th></th>\n",
       "      <th>Text</th>\n",
       "      <th>Category</th>\n",
       "    </tr>\n",
       "  </thead>\n",
       "  <tbody>\n",
       "    <tr>\n",
       "      <th>0</th>\n",
       "      <td>Kweenie of da gij al es goed hebt stilgestaan ...</td>\n",
       "      <td>neutral</td>\n",
       "    </tr>\n",
       "    <tr>\n",
       "      <th>1</th>\n",
       "      <td>Santé.</td>\n",
       "      <td>joy</td>\n",
       "    </tr>\n",
       "    <tr>\n",
       "      <th>2</th>\n",
       "      <td>Ja jongens. Dees is nie gezond ze. Pfff. Dees ...</td>\n",
       "      <td>fear</td>\n",
       "    </tr>\n",
       "    <tr>\n",
       "      <th>3</th>\n",
       "      <td>Ik had de vorige keer ook al zoiets van: nie m...</td>\n",
       "      <td>anger</td>\n",
       "    </tr>\n",
       "    <tr>\n",
       "      <th>4</th>\n",
       "      <td>Tis wat het is. Tis ook een belangrijke job eh...</td>\n",
       "      <td>neutral</td>\n",
       "    </tr>\n",
       "    <tr>\n",
       "      <th>...</th>\n",
       "      <td>...</td>\n",
       "      <td>...</td>\n",
       "    </tr>\n",
       "    <tr>\n",
       "      <th>995</th>\n",
       "      <td>Jah ze werken harder eh als wij in België, en ...</td>\n",
       "      <td>sadness</td>\n",
       "    </tr>\n",
       "    <tr>\n",
       "      <th>996</th>\n",
       "      <td>Ah gij. Wa een ramp zijt gij. Allemaal hetzelfde.</td>\n",
       "      <td>anger</td>\n",
       "    </tr>\n",
       "    <tr>\n",
       "      <th>997</th>\n",
       "      <td>Der sta Lego van Lord of the Rings, van Star W...</td>\n",
       "      <td>neutral</td>\n",
       "    </tr>\n",
       "    <tr>\n",
       "      <th>998</th>\n",
       "      <td>Nu zijn we precies aant kamperen.</td>\n",
       "      <td>joy</td>\n",
       "    </tr>\n",
       "    <tr>\n",
       "      <th>999</th>\n",
       "      <td>Ik heb euh ooit es… bja ik swing op elk feestj...</td>\n",
       "      <td>joy</td>\n",
       "    </tr>\n",
       "  </tbody>\n",
       "</table>\n",
       "<p>1000 rows × 2 columns</p>\n",
       "</div>"
      ],
      "text/plain": [
       "                                                  Text Category\n",
       "0    Kweenie of da gij al es goed hebt stilgestaan ...  neutral\n",
       "1                                               Santé.      joy\n",
       "2    Ja jongens. Dees is nie gezond ze. Pfff. Dees ...     fear\n",
       "3    Ik had de vorige keer ook al zoiets van: nie m...    anger\n",
       "4    Tis wat het is. Tis ook een belangrijke job eh...  neutral\n",
       "..                                                 ...      ...\n",
       "995  Jah ze werken harder eh als wij in België, en ...  sadness\n",
       "996  Ah gij. Wa een ramp zijt gij. Allemaal hetzelfde.    anger\n",
       "997  Der sta Lego van Lord of the Rings, van Star W...  neutral\n",
       "998                  Nu zijn we precies aant kamperen.      joy\n",
       "999  Ik heb euh ooit es… bja ik swing op elk feestj...      joy\n",
       "\n",
       "[1000 rows x 2 columns]"
      ]
     },
     "execution_count": 241,
     "metadata": {},
     "output_type": "execute_result"
    }
   ],
   "source": [
    "new_s_df = shows_df.drop([\"ID\", \"Show\", \"Valence\", \"Arousal\", \"Dominance\"], axis=1)\n",
    "new_s_df"
   ]
  },
  {
   "cell_type": "markdown",
   "metadata": {},
   "source": [
    "Now we convert the new dataframe to a useable csv file to train our models with"
   ]
  },
  {
   "cell_type": "code",
   "execution_count": 256,
   "metadata": {},
   "outputs": [],
   "source": [
    "new_s_df.to_csv(\"datasets\\emotionl_shows.csv\", index=False, mode=\"w+\")"
   ]
  },
  {
   "cell_type": "code",
   "execution_count": 257,
   "metadata": {},
   "outputs": [
    {
     "data": {
      "text/html": [
       "<div>\n",
       "<style scoped>\n",
       "    .dataframe tbody tr th:only-of-type {\n",
       "        vertical-align: middle;\n",
       "    }\n",
       "\n",
       "    .dataframe tbody tr th {\n",
       "        vertical-align: top;\n",
       "    }\n",
       "\n",
       "    .dataframe thead th {\n",
       "        text-align: right;\n",
       "    }\n",
       "</style>\n",
       "<table border=\"1\" class=\"dataframe\">\n",
       "  <thead>\n",
       "    <tr style=\"text-align: right;\">\n",
       "      <th></th>\n",
       "      <th>Text</th>\n",
       "      <th>Category</th>\n",
       "    </tr>\n",
       "  </thead>\n",
       "  <tbody>\n",
       "    <tr>\n",
       "      <th>0</th>\n",
       "      <td>Kweenie of da gij al es goed hebt stilgestaan ...</td>\n",
       "      <td>neutral</td>\n",
       "    </tr>\n",
       "    <tr>\n",
       "      <th>1</th>\n",
       "      <td>Santé.</td>\n",
       "      <td>joy</td>\n",
       "    </tr>\n",
       "    <tr>\n",
       "      <th>2</th>\n",
       "      <td>Ja jongens. Dees is nie gezond ze. Pfff. Dees ...</td>\n",
       "      <td>fear</td>\n",
       "    </tr>\n",
       "    <tr>\n",
       "      <th>3</th>\n",
       "      <td>Ik had de vorige keer ook al zoiets van: nie m...</td>\n",
       "      <td>anger</td>\n",
       "    </tr>\n",
       "    <tr>\n",
       "      <th>4</th>\n",
       "      <td>Tis wat het is. Tis ook een belangrijke job eh...</td>\n",
       "      <td>neutral</td>\n",
       "    </tr>\n",
       "    <tr>\n",
       "      <th>...</th>\n",
       "      <td>...</td>\n",
       "      <td>...</td>\n",
       "    </tr>\n",
       "    <tr>\n",
       "      <th>995</th>\n",
       "      <td>Jah ze werken harder eh als wij in België, en ...</td>\n",
       "      <td>sadness</td>\n",
       "    </tr>\n",
       "    <tr>\n",
       "      <th>996</th>\n",
       "      <td>Ah gij. Wa een ramp zijt gij. Allemaal hetzelfde.</td>\n",
       "      <td>anger</td>\n",
       "    </tr>\n",
       "    <tr>\n",
       "      <th>997</th>\n",
       "      <td>Der sta Lego van Lord of the Rings, van Star W...</td>\n",
       "      <td>neutral</td>\n",
       "    </tr>\n",
       "    <tr>\n",
       "      <th>998</th>\n",
       "      <td>Nu zijn we precies aant kamperen.</td>\n",
       "      <td>joy</td>\n",
       "    </tr>\n",
       "    <tr>\n",
       "      <th>999</th>\n",
       "      <td>Ik heb euh ooit es… bja ik swing op elk feestj...</td>\n",
       "      <td>joy</td>\n",
       "    </tr>\n",
       "  </tbody>\n",
       "</table>\n",
       "<p>1000 rows × 2 columns</p>\n",
       "</div>"
      ],
      "text/plain": [
       "                                                  Text Category\n",
       "0    Kweenie of da gij al es goed hebt stilgestaan ...  neutral\n",
       "1                                               Santé.      joy\n",
       "2    Ja jongens. Dees is nie gezond ze. Pfff. Dees ...     fear\n",
       "3    Ik had de vorige keer ook al zoiets van: nie m...    anger\n",
       "4    Tis wat het is. Tis ook een belangrijke job eh...  neutral\n",
       "..                                                 ...      ...\n",
       "995  Jah ze werken harder eh als wij in België, en ...  sadness\n",
       "996  Ah gij. Wa een ramp zijt gij. Allemaal hetzelfde.    anger\n",
       "997  Der sta Lego van Lord of the Rings, van Star W...  neutral\n",
       "998                  Nu zijn we precies aant kamperen.      joy\n",
       "999  Ik heb euh ooit es… bja ik swing op elk feestj...      joy\n",
       "\n",
       "[1000 rows x 2 columns]"
      ]
     },
     "execution_count": 257,
     "metadata": {},
     "output_type": "execute_result"
    }
   ],
   "source": [
    "pd.read_csv(\"datasets\\emotionl_shows.csv\")"
   ]
  },
  {
   "cell_type": "markdown",
   "metadata": {},
   "source": [
    "### EmotioNL Tweets"
   ]
  },
  {
   "cell_type": "markdown",
   "metadata": {},
   "source": [
    "Get the path file"
   ]
  },
  {
   "cell_type": "code",
   "execution_count": 23,
   "metadata": {},
   "outputs": [
    {
     "data": {
      "text/plain": [
       "'datasets\\\\EmotioNL_dataset_open\\\\EmotioNL_tweets.txt'"
      ]
     },
     "execution_count": 23,
     "metadata": {},
     "output_type": "execute_result"
    }
   ],
   "source": [
    "filename = \"EmotioNL_tweets.txt\"\n",
    "\n",
    "pf = os.path.join(base_path, filename)\n",
    "pf"
   ]
  },
  {
   "cell_type": "markdown",
   "metadata": {},
   "source": [
    "The dataset consists of 6 columns."
   ]
  },
  {
   "cell_type": "code",
   "execution_count": 25,
   "metadata": {},
   "outputs": [
    {
     "data": {
      "text/html": [
       "<div>\n",
       "<style scoped>\n",
       "    .dataframe tbody tr th:only-of-type {\n",
       "        vertical-align: middle;\n",
       "    }\n",
       "\n",
       "    .dataframe tbody tr th {\n",
       "        vertical-align: top;\n",
       "    }\n",
       "\n",
       "    .dataframe thead th {\n",
       "        text-align: right;\n",
       "    }\n",
       "</style>\n",
       "<table border=\"1\" class=\"dataframe\">\n",
       "  <thead>\n",
       "    <tr style=\"text-align: right;\">\n",
       "      <th></th>\n",
       "      <th>ID</th>\n",
       "      <th>Tweet ID</th>\n",
       "      <th>Valence</th>\n",
       "      <th>Arousal</th>\n",
       "      <th>Dominance</th>\n",
       "      <th>Category</th>\n",
       "    </tr>\n",
       "  </thead>\n",
       "  <tbody>\n",
       "    <tr>\n",
       "      <th>0</th>\n",
       "      <td>4</td>\n",
       "      <td>['914793795094446082']</td>\n",
       "      <td>0.553364</td>\n",
       "      <td>0.550661</td>\n",
       "      <td>0.732408</td>\n",
       "      <td>anger</td>\n",
       "    </tr>\n",
       "    <tr>\n",
       "      <th>1</th>\n",
       "      <td>7</td>\n",
       "      <td>['902122434714841090']</td>\n",
       "      <td>0.074637</td>\n",
       "      <td>0.754539</td>\n",
       "      <td>0.732349</td>\n",
       "      <td>anger</td>\n",
       "    </tr>\n",
       "    <tr>\n",
       "      <th>2</th>\n",
       "      <td>8</td>\n",
       "      <td>['864400774251589632']</td>\n",
       "      <td>0.395079</td>\n",
       "      <td>0.838521</td>\n",
       "      <td>0.768225</td>\n",
       "      <td>anger</td>\n",
       "    </tr>\n",
       "    <tr>\n",
       "      <th>3</th>\n",
       "      <td>11</td>\n",
       "      <td>['894957660889591810']</td>\n",
       "      <td>0.069375</td>\n",
       "      <td>0.626347</td>\n",
       "      <td>0.647728</td>\n",
       "      <td>anger</td>\n",
       "    </tr>\n",
       "    <tr>\n",
       "      <th>4</th>\n",
       "      <td>15</td>\n",
       "      <td>['905476032320462848']</td>\n",
       "      <td>0.150416</td>\n",
       "      <td>0.697961</td>\n",
       "      <td>0.584830</td>\n",
       "      <td>anger</td>\n",
       "    </tr>\n",
       "    <tr>\n",
       "      <th>...</th>\n",
       "      <td>...</td>\n",
       "      <td>...</td>\n",
       "      <td>...</td>\n",
       "      <td>...</td>\n",
       "      <td>...</td>\n",
       "      <td>...</td>\n",
       "    </tr>\n",
       "    <tr>\n",
       "      <th>995</th>\n",
       "      <td>949</td>\n",
       "      <td>['848596718740545536']</td>\n",
       "      <td>0.409241</td>\n",
       "      <td>0.635159</td>\n",
       "      <td>0.132824</td>\n",
       "      <td>sadness</td>\n",
       "    </tr>\n",
       "    <tr>\n",
       "      <th>996</th>\n",
       "      <td>951</td>\n",
       "      <td>['912331156317540358']</td>\n",
       "      <td>0.174462</td>\n",
       "      <td>0.964262</td>\n",
       "      <td>0.349197</td>\n",
       "      <td>sadness</td>\n",
       "    </tr>\n",
       "    <tr>\n",
       "      <th>997</th>\n",
       "      <td>963</td>\n",
       "      <td>['913090078582431744']</td>\n",
       "      <td>0.171635</td>\n",
       "      <td>0.781369</td>\n",
       "      <td>0.226771</td>\n",
       "      <td>sadness</td>\n",
       "    </tr>\n",
       "    <tr>\n",
       "      <th>998</th>\n",
       "      <td>976</td>\n",
       "      <td>['834451051407360000']</td>\n",
       "      <td>0.078343</td>\n",
       "      <td>0.422965</td>\n",
       "      <td>0.071597</td>\n",
       "      <td>sadness</td>\n",
       "    </tr>\n",
       "    <tr>\n",
       "      <th>999</th>\n",
       "      <td>987</td>\n",
       "      <td>['830679512492949504']</td>\n",
       "      <td>0.291780</td>\n",
       "      <td>0.445997</td>\n",
       "      <td>0.166423</td>\n",
       "      <td>sadness</td>\n",
       "    </tr>\n",
       "  </tbody>\n",
       "</table>\n",
       "<p>1000 rows × 6 columns</p>\n",
       "</div>"
      ],
      "text/plain": [
       "      ID                Tweet ID   Valence   Arousal  Dominance Category\n",
       "0      4  ['914793795094446082']  0.553364  0.550661   0.732408    anger\n",
       "1      7  ['902122434714841090']  0.074637  0.754539   0.732349    anger\n",
       "2      8  ['864400774251589632']  0.395079  0.838521   0.768225    anger\n",
       "3     11  ['894957660889591810']  0.069375  0.626347   0.647728    anger\n",
       "4     15  ['905476032320462848']  0.150416  0.697961   0.584830    anger\n",
       "..   ...                     ...       ...       ...        ...      ...\n",
       "995  949  ['848596718740545536']  0.409241  0.635159   0.132824  sadness\n",
       "996  951  ['912331156317540358']  0.174462  0.964262   0.349197  sadness\n",
       "997  963  ['913090078582431744']  0.171635  0.781369   0.226771  sadness\n",
       "998  976  ['834451051407360000']  0.078343  0.422965   0.071597  sadness\n",
       "999  987  ['830679512492949504']  0.291780  0.445997   0.166423  sadness\n",
       "\n",
       "[1000 rows x 6 columns]"
      ]
     },
     "execution_count": 25,
     "metadata": {},
     "output_type": "execute_result"
    }
   ],
   "source": [
    "tweets_df = pd.read_csv(pf, sep=\"\\t\")\n",
    "tweets_df"
   ]
  },
  {
   "cell_type": "markdown",
   "metadata": {},
   "source": [
    "The dataset has no empty or duplicate values"
   ]
  },
  {
   "cell_type": "code",
   "execution_count": 144,
   "metadata": {},
   "outputs": [
    {
     "data": {
      "text/plain": [
       "(0, 0)"
      ]
     },
     "execution_count": 144,
     "metadata": {},
     "output_type": "execute_result"
    }
   ],
   "source": [
    "dupes = tweets_df[tweets_df.duplicated()]\n",
    "empty = np.where(pd.isnull(tweets_df))\n",
    "\n",
    "len(dupes), len(empty[0])"
   ]
  },
  {
   "cell_type": "markdown",
   "metadata": {},
   "source": [
    "We need only need the tweet ID and the category"
   ]
  },
  {
   "cell_type": "code",
   "execution_count": 145,
   "metadata": {},
   "outputs": [
    {
     "data": {
      "text/html": [
       "<div>\n",
       "<style scoped>\n",
       "    .dataframe tbody tr th:only-of-type {\n",
       "        vertical-align: middle;\n",
       "    }\n",
       "\n",
       "    .dataframe tbody tr th {\n",
       "        vertical-align: top;\n",
       "    }\n",
       "\n",
       "    .dataframe thead th {\n",
       "        text-align: right;\n",
       "    }\n",
       "</style>\n",
       "<table border=\"1\" class=\"dataframe\">\n",
       "  <thead>\n",
       "    <tr style=\"text-align: right;\">\n",
       "      <th></th>\n",
       "      <th>Tweet ID</th>\n",
       "      <th>Category</th>\n",
       "    </tr>\n",
       "  </thead>\n",
       "  <tbody>\n",
       "    <tr>\n",
       "      <th>0</th>\n",
       "      <td>['914793795094446082']</td>\n",
       "      <td>anger</td>\n",
       "    </tr>\n",
       "    <tr>\n",
       "      <th>1</th>\n",
       "      <td>['902122434714841090']</td>\n",
       "      <td>anger</td>\n",
       "    </tr>\n",
       "    <tr>\n",
       "      <th>2</th>\n",
       "      <td>['864400774251589632']</td>\n",
       "      <td>anger</td>\n",
       "    </tr>\n",
       "    <tr>\n",
       "      <th>3</th>\n",
       "      <td>['894957660889591810']</td>\n",
       "      <td>anger</td>\n",
       "    </tr>\n",
       "    <tr>\n",
       "      <th>4</th>\n",
       "      <td>['905476032320462848']</td>\n",
       "      <td>anger</td>\n",
       "    </tr>\n",
       "    <tr>\n",
       "      <th>...</th>\n",
       "      <td>...</td>\n",
       "      <td>...</td>\n",
       "    </tr>\n",
       "    <tr>\n",
       "      <th>995</th>\n",
       "      <td>['848596718740545536']</td>\n",
       "      <td>sadness</td>\n",
       "    </tr>\n",
       "    <tr>\n",
       "      <th>996</th>\n",
       "      <td>['912331156317540358']</td>\n",
       "      <td>sadness</td>\n",
       "    </tr>\n",
       "    <tr>\n",
       "      <th>997</th>\n",
       "      <td>['913090078582431744']</td>\n",
       "      <td>sadness</td>\n",
       "    </tr>\n",
       "    <tr>\n",
       "      <th>998</th>\n",
       "      <td>['834451051407360000']</td>\n",
       "      <td>sadness</td>\n",
       "    </tr>\n",
       "    <tr>\n",
       "      <th>999</th>\n",
       "      <td>['830679512492949504']</td>\n",
       "      <td>sadness</td>\n",
       "    </tr>\n",
       "  </tbody>\n",
       "</table>\n",
       "<p>1000 rows × 2 columns</p>\n",
       "</div>"
      ],
      "text/plain": [
       "                   Tweet ID Category\n",
       "0    ['914793795094446082']    anger\n",
       "1    ['902122434714841090']    anger\n",
       "2    ['864400774251589632']    anger\n",
       "3    ['894957660889591810']    anger\n",
       "4    ['905476032320462848']    anger\n",
       "..                      ...      ...\n",
       "995  ['848596718740545536']  sadness\n",
       "996  ['912331156317540358']  sadness\n",
       "997  ['913090078582431744']  sadness\n",
       "998  ['834451051407360000']  sadness\n",
       "999  ['830679512492949504']  sadness\n",
       "\n",
       "[1000 rows x 2 columns]"
      ]
     },
     "execution_count": 145,
     "metadata": {},
     "output_type": "execute_result"
    }
   ],
   "source": [
    "new_t_df = shows_df.drop([\"ID\", \"Valence\", \"Arousal\", \"Dominance\"], axis=1)\n",
    "new_t_df"
   ]
  },
  {
   "cell_type": "markdown",
   "metadata": {},
   "source": [
    "This dataset needs a lot more data processing. We need to get the text from the tweet id's. For this we will use a simple url call using the requests module."
   ]
  },
  {
   "cell_type": "code",
   "execution_count": 152,
   "metadata": {},
   "outputs": [],
   "source": [
    "\"\"\" make a html session, because jupyter has it's own loop running in the background we use a AsyncHTMLSession.\n",
    "This session allows us to use the request html session method in a jupyter notebook\n",
    "\n",
    "\"\"\"\n",
    "asession = AsyncHTMLSession()"
   ]
  },
  {
   "cell_type": "markdown",
   "metadata": {},
   "source": [
    "A tweet ID in the dataset has symbols and brackets that need to be removed. "
   ]
  },
  {
   "cell_type": "code",
   "execution_count": 156,
   "metadata": {},
   "outputs": [
    {
     "name": "stdout",
     "output_type": "stream",
     "text": [
      "['914793795094446082'] 914793795094446082\n"
     ]
    }
   ],
   "source": [
    "current_id = new_t_df[\"Tweet ID\"][0]\n",
    "new_id = new_t_df[\"Tweet ID\"][0].strip(\"[\").strip(\"]\").strip(\"'\")\n",
    "print(current_id, test_id)"
   ]
  },
  {
   "cell_type": "code",
   "execution_count": 188,
   "metadata": {},
   "outputs": [],
   "source": [
    "# sample of 3 tweets using the request method\n",
    "texts = []\n",
    "for i in range(3):\n",
    "    id = tweets_df['Tweet ID'][i].strip(\"[\").strip(\"]\").strip(\"'\")\n",
    "    # call the url\n",
    "    url = \"https://twitter.com/anyuser/status/{}\".format(id)\n",
    "    r = await asession.get(url)\n",
    "    await r.html.arender(sleep=2)\n",
    "    # fetch the raw html code\n",
    "    resp=r.html.raw_html\n",
    "    # process it using bs4\n",
    "    soup = BeautifulSoup(resp, \"lxml\")\n",
    "    soup.prettify()\n",
    "    # get the correct data and append\n",
    "    text = soup.title.text\n",
    "    texts.append(text)"
   ]
  },
  {
   "cell_type": "code",
   "execution_count": 189,
   "metadata": {},
   "outputs": [
    {
     "data": {
      "text/plain": [
       "['Voeten on Twitter: \"@LINDAnieuws Maandagmorgen en extra druk😣Dat is nu voordeel van niet meer werken op maandag al dit nieuws lezen!\" / X',\n",
       " 'Les on Twitter: \"@9Owen1 Echt...zweet en shag..en dat een hele dag😡Je zal ermee op kantoor zitten😝\" / X',\n",
       " 'bilblebons on Twitter: \"@ohzitdatzo @telegraaf @VVD D66Pechtold zei 1e BELANGRIJKSTE!poging😂dream on Pechtold gelul id ruimte! PVV id 2e grtste!wat e kleuterklasje.pesten uitsluiten z nie 2017\" / X']"
      ]
     },
     "execution_count": 189,
     "metadata": {},
     "output_type": "execute_result"
    }
   ],
   "source": [
    "texts"
   ]
  },
  {
   "cell_type": "markdown",
   "metadata": {},
   "source": [
    "The last step is removing emoji's from the tweets, and remove the twitter names and \"/ X\"."
   ]
  },
  {
   "cell_type": "code",
   "execution_count": 234,
   "metadata": {},
   "outputs": [],
   "source": [
    "n_text = []\n",
    "for i in range(len(texts)):\n",
    "    pattern = re.compile(\"[\"\n",
    "        u\"\\U0001F600-\\U0001F64F\"  # emoticons\n",
    "        u\"\\U0001F300-\\U0001F5FF\"  # symbols & pictographs\n",
    "        u\"\\U0001F680-\\U0001F6FF\"  # transport & map symbols\n",
    "        u\"\\U0001F1E0-\\U0001F1FF\"  # flags (iOS)\n",
    "                           \"]\",\n",
    "        flags=re.UNICODE)\n",
    "    r_text = emoji_pattern.sub(r'', texts[i]) # no emoji\n",
    "    r_text = re.sub(r'^.*?@', '@', r_text)\n",
    "    r_text = re.sub(re.escape('\"')+'.*',\"\", r_text)\n",
    "    n_text.append(r_text)"
   ]
  },
  {
   "cell_type": "code",
   "execution_count": 235,
   "metadata": {},
   "outputs": [
    {
     "data": {
      "text/plain": [
       "['@LINDAnieuws Maandagmorgen en extra drukDat is nu voordeel van niet meer werken op maandag al dit nieuws lezen!',\n",
       " '@9Owen1 Echt...zweet en shag..en dat een hele dagJe zal ermee op kantoor zitten',\n",
       " '@ohzitdatzo @telegraaf @VVD D66Pechtold zei 1e BELANGRIJKSTE!pogingdream on Pechtold gelul id ruimte! PVV id 2e grtste!wat e kleuterklasje.pesten uitsluiten z nie 2017']"
      ]
     },
     "execution_count": 235,
     "metadata": {},
     "output_type": "execute_result"
    }
   ],
   "source": [
    "n_text"
   ]
  },
  {
   "cell_type": "code",
   "execution_count": null,
   "metadata": {},
   "outputs": [],
   "source": []
  },
  {
   "cell_type": "code",
   "execution_count": null,
   "metadata": {},
   "outputs": [],
   "source": []
  }
 ],
 "metadata": {
  "kernelspec": {
   "display_name": "Python 3",
   "language": "python",
   "name": "python3"
  },
  "language_info": {
   "codemirror_mode": {
    "name": "ipython",
    "version": 3
   },
   "file_extension": ".py",
   "mimetype": "text/x-python",
   "name": "python",
   "nbconvert_exporter": "python",
   "pygments_lexer": "ipython3",
   "version": "3.7.6"
  }
 },
 "nbformat": 4,
 "nbformat_minor": 4
}
